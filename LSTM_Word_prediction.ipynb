{
  "nbformat": 4,
  "nbformat_minor": 0,
  "metadata": {
    "colab": {
      "provenance": [],
      "gpuType": "T4",
      "mount_file_id": "16qktXsiZxTIzLnhYbKTiqjUPn-WEVb34",
      "authorship_tag": "ABX9TyPHPxYM5sFdy6/4mNDYyI8o",
      "include_colab_link": true
    },
    "kernelspec": {
      "name": "python3",
      "display_name": "Python 3"
    },
    "language_info": {
      "name": "python"
    },
    "accelerator": "GPU"
  },
  "cells": [
    {
      "cell_type": "markdown",
      "metadata": {
        "id": "view-in-github",
        "colab_type": "text"
      },
      "source": [
        "<a href=\"https://colab.research.google.com/github/aniarcha/-Behavioral_Prediction/blob/main/LSTM_Word_prediction.ipynb\" target=\"_parent\"><img src=\"https://colab.research.google.com/assets/colab-badge.svg\" alt=\"Open In Colab\"/></a>"
      ]
    },
    {
      "cell_type": "code",
      "execution_count": null,
      "metadata": {
        "id": "0js95N2RI2OV"
      },
      "outputs": [],
      "source": [
        "import numpy as np\n",
        "import pickle\n",
        "import tensorflow as tf\n",
        "from tensorflow.keras.preprocessing.text import Tokenizer\n",
        "from tensorflow.keras.preprocessing.sequence import pad_sequences\n",
        "from tensorflow.keras.models import Sequential\n",
        "from tensorflow.keras.layers import Embedding , LSTM, Dense\n",
        "# import pandas as pd\n",
        "# df=pd.read_csv('/content/IndiaUS.txt')"
      ]
    },
    {
      "cell_type": "code",
      "source": [
        "with open('/content/IndiaUS.txt','r',encoding='utf-8') as myfile: #to read atext file\n",
        "  mytext = myfile.read()"
      ],
      "metadata": {
        "id": "b-V8spqvK7nx"
      },
      "execution_count": null,
      "outputs": []
    },
    {
      "cell_type": "code",
      "source": [
        "print(mytext)"
      ],
      "metadata": {
        "colab": {
          "base_uri": "https://localhost:8080/"
        },
        "id": "flGNSeuCLO4m",
        "outputId": "95cc4346-608b-4271-e344-d4ac39e2ca91"
      },
      "execution_count": null,
      "outputs": [
        {
          "output_type": "stream",
          "name": "stdout",
          "text": [
            "Following a lavish state visit by Indian Prime Minister Narendra Modi to Washington, US President Joe Biden has called his country's partnership with India among the \"most consequential in the world\". The BBC's Vikas Pandey and Soutik Biswas explore the factors that contribute to the visit's potential in strengthening the ties between the two nations.\n",
            "\n",
            "The US's relationship with India - the world's most populous country - is \"stronger, closer and more dynamic than any time in history\", Mr Biden said at the completion of a pomp-filled state visit by Mr Modi to the White House.\n",
            "\n",
            "The remark may not be an exaggeration. \"This summit suggests that the relationship has been transformed. It underscores just how broad and deep it has become in a relatively short time,\" says Michael Kugelman of The Wilson Center, an American think-tank.\n",
            "\n",
            "A key reason is that Washington is keen to draw India closer so that it can act as a counterbalance to China's growing influence in the Indo-Pacific. India-US ties had not lived up to their promise following a landmark civilian nuclear deal in 2005 because a liability law passed by India three years later hobbled purchase of reactors.\n",
            "\n",
            "\"This followed a fading commitment to the relationship during [former prime minister] Manmohan Singh's second term as the leader of a coalition government. With Mr Modi there has been a lot more enthusiasm about embracing the US. Mr Biden has also given an overall broad directive to make it work,\" says Seema Sirohi, author of Friends With Benefits: The India-US Story.\n",
            "\n",
            "Ms Sirohi says the US put in a \"lot of effort to make Mr Modi's visit substantive and have a lot of deliverables\". Defence-industrial cooperation and technology topped the list. Consider this:\n",
            "\n",
            "General Electric and India's state-owned Hindustan Aeronautics Limited will make in India advanced fighter jet engines for the country's indigenous light combat aircraft. This means a \"greater transfer of US jet engine technology than ever before\" - a clear sign that Washington not only wants to sell arms to India but is also comfortable with sharing military technology.\n",
            "India will proceed with a $3bn purchase of the battle-tested MQ-9B Predator drones from General Atomics, which will also set up a facility in India. The drones will be assembled in India, which fits into Mr Modi's 'Make in India' campaign. The US supplies only 11% of India's arms - Russia is the biggest (45%) supplier - but hopes to become the primary provider in the coming years. Mr Kugelman says Washington's immediate goal is to \"strengthen India's military capacity to counter China\".\n",
            "Mr Modi wants to make India a semiconductor base. US memory chip giant Micron Technology will invest up to $825m to build a semiconductor assembly and test facility in India, creating thousands of jobs.\n",
            "US semiconductor equipment maker Lam Research will train 60,000 Indian engineers through a network of interconnected labs and research centres to speed up India's semiconductor education and workforce development. Also Applied Materials, the biggest maker of machines for producing semiconductors, will invest $400m to establish an engineering centre in India.\n",
            "\"It is all about the future now. Both sides are talking about cutting-edge technologies and how to seed and shape the future,\" says Ms Sirohi.\n",
            "\n",
            ": U.S. President Joe Biden and first lady Jill Biden welcome India Prime Minister Narendra Modi to the White House on June 21, 2023 in Washington, DC\n",
            "Mr Biden and Mrs Biden welcome Mr Modi to the White House\n",
            "The India-US relationship has seen many ups and downs since the US seriously began courting India - first under President Bill Clinton and then under the George Bush administration. The response from India was measured, never overeager or too forthcoming.\n",
            "\n",
            "The reason was the way India saw geopolitics and its own place in the global order. The strategy of nonalignment, started by India's first prime minister Jawaharlal Nehru, has always been deeply rooted into India's foreign policy.\n",
            "\n",
            "India never wanted to be seen in one camp or the other, or to be seen as junior strategic partner to a global superpower. Mr Modi has not left the ideals of what some describe as \"strategic altruism\" in Indian foreign policy.\n",
            "\n",
            "But Mr Modi is leading a different kind of India, one which has considerably more economic and geopolitical heft. He has owned the India-US relations - he formed close bonds with former presidents Barack Obama and Donald Trump and now with Mr Biden.\n",
            "\n",
            "But India's \"strategic autonomy\" has not been sacrificed. Washington would have wanted India to go a step further on Russia and probably take a harder public stand on China.\n",
            "\n",
            "But the Biden administration didn't seem disappointed as Mr Modi repeated his line that \"this was not the era of war\" without mentioning Russia. The Indian prime minister did speak about the importance of beefing up humanitarian assistance to Ukraine. He didn't mention China by name either but did talk about the importance of a free and prosperous Indo-Pacific.\n",
            "\n",
            "This is how far Mr Modi could have pushed his administration's policy without compromising on strategic autonomy. It may not have been the ideal way for Washington but it didn't come in the way of making Mr Modi's visit a success.\n",
            "\n",
            "The United States Air Force (USAF) and Indian Air Force (IAF) personnel are posing in front of a United States Air Force (USAF) F-15 Eagle fighter jet during the joint 'Exercise Cope India 2023' at the air force station in Kalaikunda, around 170 km west of Kolkata, on April 24th, 2023. \n",
            "US and Indian air force personnel pose in front of a US fighter jet during a joint exercise in India in April\n",
            "\"The two militaries are working more closely together. They now have arrangements in place where they could use each other's facilities for refuelling and maintenance purposes. They are holding joint exercises and they're sharing a lot more intelligence. Credit to Mr Modi for managing to really test the limits of strategic autonomy. In the sense that he is getting about as close as you can to a major power without signing on to a full-fledged alliance,\" Mr Kugelman says.\n",
            "\n",
            "India and the US have had major trade differences in recent years over tariffs. Trade relations particularly suffered during the Trump administration.\n",
            "\n",
            "The two sides were not expected to announce anything major in trade as it was understood that the discussions over that could continue later without overshadowing the visit.\n",
            "\n",
            "But surprisingly, the two sides announced that six separate trade disputes at the World Trade Organization were resolved, including one that involved tariffs.\n",
            "\n",
            "The US is now India's top trading partner at $130bn in goods and Delhi is Washington's eighth largest partner. While these numbers are impressive, analysts and policymakers feel there is a huge untapped potential. India is also a burgeoning market with an expanding middle class and it's been positioning itself as an alternative to China to become a manufacturing hub for the world.\n",
            "\n",
            "President Joe Biden and Indian Prime Minister Narendra Modi participate in an arrival ceremony on the South Lawn of the White House on Thursday, June 22, 2023 in Washington, DC. President Biden is the first U.S. President to invite Prime Minister Modi for an official state visit\n",
            "Some 2.7 million Indians live in the US\n",
            "Many global firms and nations are interested in the proposal as they look to free the global supply chain from China's dominance. In that context, the resolution of trade disputes will give further impetus to unlocking the full potential of India-US trade ties. Mr Modi has said that \"even sky is not the limit (for India-US) ties\".\n",
            "\n",
            "Critics in Washington have questioned India's \"democratic backsliding\" under Mr Modi and his Hindu nationalist Bharatiya Janata Party (BJP). Mr Obama, in a television interview this week, emphasised the significance of addressing the \"protection of the Muslim minority in a predominantly Hindu India\" during discussions between Mr Biden and Mr Modi. \"The progressives in the Democratic Party are disturbed by what is happening in India. The realists and centrists are all for strengthening the relationship because of the China factor,\" says Ms Sirohi.\n",
            "\n",
            "But on the whole, there is a bipartisan agreement to make the relationship deeper and broader. \"The India-US strategic partnership has certainly moved to the next level. It's one of mutual need and mutual benefit,\" says Ms Sirohi.\n"
          ]
        }
      ]
    },
    {
      "cell_type": "code",
      "source": [
        "mytokenizer=Tokenizer()\n"
      ],
      "metadata": {
        "id": "LTRLzZy9LR-v"
      },
      "execution_count": null,
      "outputs": []
    },
    {
      "cell_type": "code",
      "source": [
        "mytokenizer.fit_on_texts([mytext])\n",
        "total_words=len(mytokenizer.word_index)+1 #add 1 for futer word prediction\n",
        "total_words"
      ],
      "metadata": {
        "colab": {
          "base_uri": "https://localhost:8080/"
        },
        "id": "D6l-FA0QLywS",
        "outputId": "b5223136-0d23-4f8d-a51c-a9f6ab50fe72"
      },
      "execution_count": null,
      "outputs": [
        {
          "output_type": "execute_result",
          "data": {
            "text/plain": [
              "599"
            ]
          },
          "metadata": {},
          "execution_count": 11
        }
      ]
    },
    {
      "cell_type": "code",
      "source": [
        "mytokenizer.word_index"
      ],
      "metadata": {
        "colab": {
          "base_uri": "https://localhost:8080/"
        },
        "id": "9jFwocvgL6nU",
        "outputId": "3ee6f569-0035-49d3-f29d-5ab53b969b3a"
      },
      "execution_count": null,
      "outputs": [
        {
          "output_type": "execute_result",
          "data": {
            "text/plain": [
              "{'the': 1,\n",
              " 'to': 2,\n",
              " 'in': 3,\n",
              " 'a': 4,\n",
              " 'and': 5,\n",
              " 'india': 6,\n",
              " 'of': 7,\n",
              " 'mr': 8,\n",
              " 'us': 9,\n",
              " 'is': 10,\n",
              " 'modi': 11,\n",
              " 'has': 12,\n",
              " 'that': 13,\n",
              " 'biden': 14,\n",
              " 'as': 15,\n",
              " 'with': 16,\n",
              " 'not': 17,\n",
              " \"india's\": 18,\n",
              " 'for': 19,\n",
              " 'but': 20,\n",
              " 'on': 21,\n",
              " 'washington': 22,\n",
              " 'an': 23,\n",
              " 'it': 24,\n",
              " 'says': 25,\n",
              " 'will': 26,\n",
              " 'are': 27,\n",
              " 'indian': 28,\n",
              " 'prime': 29,\n",
              " 'minister': 30,\n",
              " 'this': 31,\n",
              " 'have': 32,\n",
              " 'trade': 33,\n",
              " 'visit': 34,\n",
              " 'by': 35,\n",
              " 'president': 36,\n",
              " 'relationship': 37,\n",
              " 'been': 38,\n",
              " 'about': 39,\n",
              " 'strategic': 40,\n",
              " 'more': 41,\n",
              " 'up': 42,\n",
              " 'during': 43,\n",
              " 'also': 44,\n",
              " 'make': 45,\n",
              " 'sirohi': 46,\n",
              " 'china': 47,\n",
              " 'air': 48,\n",
              " 'force': 49,\n",
              " 'state': 50,\n",
              " 'his': 51,\n",
              " 'ties': 52,\n",
              " 'two': 53,\n",
              " 'at': 54,\n",
              " 'white': 55,\n",
              " 'house': 56,\n",
              " 'be': 57,\n",
              " 'lot': 58,\n",
              " 'ms': 59,\n",
              " 'technology': 60,\n",
              " 'jet': 61,\n",
              " 'semiconductor': 62,\n",
              " 'now': 63,\n",
              " 'first': 64,\n",
              " 'was': 65,\n",
              " 'global': 66,\n",
              " 'one': 67,\n",
              " 'he': 68,\n",
              " 'without': 69,\n",
              " 'they': 70,\n",
              " 'narendra': 71,\n",
              " 'joe': 72,\n",
              " 'world': 73,\n",
              " 'potential': 74,\n",
              " 'how': 75,\n",
              " 'become': 76,\n",
              " 'kugelman': 77,\n",
              " 'years': 78,\n",
              " 'there': 79,\n",
              " \"modi's\": 80,\n",
              " 'fighter': 81,\n",
              " 'from': 82,\n",
              " 'which': 83,\n",
              " 'russia': 84,\n",
              " 'sides': 85,\n",
              " '2023': 86,\n",
              " 'seen': 87,\n",
              " 'under': 88,\n",
              " 'administration': 89,\n",
              " 'or': 90,\n",
              " 'way': 91,\n",
              " 'policy': 92,\n",
              " 'partner': 93,\n",
              " 'autonomy': 94,\n",
              " \"didn't\": 95,\n",
              " 'could': 96,\n",
              " 'joint': 97,\n",
              " 'major': 98,\n",
              " 'following': 99,\n",
              " \"country's\": 100,\n",
              " 'partnership': 101,\n",
              " 'most': 102,\n",
              " 'strengthening': 103,\n",
              " 'between': 104,\n",
              " 'nations': 105,\n",
              " 'closer': 106,\n",
              " 'than': 107,\n",
              " 'time': 108,\n",
              " 'said': 109,\n",
              " 'may': 110,\n",
              " 'broad': 111,\n",
              " 'reason': 112,\n",
              " 'can': 113,\n",
              " \"china's\": 114,\n",
              " 'indo': 115,\n",
              " 'pacific': 116,\n",
              " 'had': 117,\n",
              " 'because': 118,\n",
              " 'later': 119,\n",
              " 'purchase': 120,\n",
              " 'former': 121,\n",
              " 'general': 122,\n",
              " 'owned': 123,\n",
              " 'only': 124,\n",
              " 'wants': 125,\n",
              " 'arms': 126,\n",
              " 'sharing': 127,\n",
              " 'military': 128,\n",
              " 'drones': 129,\n",
              " 'facility': 130,\n",
              " 'into': 131,\n",
              " 'biggest': 132,\n",
              " \"washington's\": 133,\n",
              " 'invest': 134,\n",
              " 'test': 135,\n",
              " 'maker': 136,\n",
              " 'research': 137,\n",
              " 'all': 138,\n",
              " 'future': 139,\n",
              " 'u': 140,\n",
              " 's': 141,\n",
              " 'welcome': 142,\n",
              " 'june': 143,\n",
              " 'dc': 144,\n",
              " 'many': 145,\n",
              " 'never': 146,\n",
              " 'place': 147,\n",
              " 'foreign': 148,\n",
              " 'wanted': 149,\n",
              " 'what': 150,\n",
              " 'some': 151,\n",
              " 'relations': 152,\n",
              " 'close': 153,\n",
              " 'obama': 154,\n",
              " 'trump': 155,\n",
              " 'further': 156,\n",
              " 'did': 157,\n",
              " 'importance': 158,\n",
              " 'free': 159,\n",
              " 'united': 160,\n",
              " 'states': 161,\n",
              " 'usaf': 162,\n",
              " 'personnel': 163,\n",
              " 'front': 164,\n",
              " 'april': 165,\n",
              " 'full': 166,\n",
              " 'over': 167,\n",
              " 'tariffs': 168,\n",
              " 'were': 169,\n",
              " 'discussions': 170,\n",
              " 'disputes': 171,\n",
              " \"it's\": 172,\n",
              " 'democratic': 173,\n",
              " 'hindu': 174,\n",
              " 'party': 175,\n",
              " 'mutual': 176,\n",
              " 'lavish': 177,\n",
              " 'called': 178,\n",
              " 'among': 179,\n",
              " 'consequential': 180,\n",
              " \"bbc's\": 181,\n",
              " 'vikas': 182,\n",
              " 'pandey': 183,\n",
              " 'soutik': 184,\n",
              " 'biswas': 185,\n",
              " 'explore': 186,\n",
              " 'factors': 187,\n",
              " 'contribute': 188,\n",
              " \"visit's\": 189,\n",
              " \"us's\": 190,\n",
              " \"world's\": 191,\n",
              " 'populous': 192,\n",
              " 'country': 193,\n",
              " 'stronger': 194,\n",
              " 'dynamic': 195,\n",
              " 'any': 196,\n",
              " 'history': 197,\n",
              " 'completion': 198,\n",
              " 'pomp': 199,\n",
              " 'filled': 200,\n",
              " 'remark': 201,\n",
              " 'exaggeration': 202,\n",
              " 'summit': 203,\n",
              " 'suggests': 204,\n",
              " 'transformed': 205,\n",
              " 'underscores': 206,\n",
              " 'just': 207,\n",
              " 'deep': 208,\n",
              " 'relatively': 209,\n",
              " 'short': 210,\n",
              " 'michael': 211,\n",
              " 'wilson': 212,\n",
              " 'center': 213,\n",
              " 'american': 214,\n",
              " 'think': 215,\n",
              " 'tank': 216,\n",
              " 'key': 217,\n",
              " 'keen': 218,\n",
              " 'draw': 219,\n",
              " 'so': 220,\n",
              " 'act': 221,\n",
              " 'counterbalance': 222,\n",
              " 'growing': 223,\n",
              " 'influence': 224,\n",
              " 'lived': 225,\n",
              " 'their': 226,\n",
              " 'promise': 227,\n",
              " 'landmark': 228,\n",
              " 'civilian': 229,\n",
              " 'nuclear': 230,\n",
              " 'deal': 231,\n",
              " '2005': 232,\n",
              " 'liability': 233,\n",
              " 'law': 234,\n",
              " 'passed': 235,\n",
              " 'three': 236,\n",
              " 'hobbled': 237,\n",
              " 'reactors': 238,\n",
              " 'followed': 239,\n",
              " 'fading': 240,\n",
              " 'commitment': 241,\n",
              " 'manmohan': 242,\n",
              " \"singh's\": 243,\n",
              " 'second': 244,\n",
              " 'term': 245,\n",
              " 'leader': 246,\n",
              " 'coalition': 247,\n",
              " 'government': 248,\n",
              " 'enthusiasm': 249,\n",
              " 'embracing': 250,\n",
              " 'given': 251,\n",
              " 'overall': 252,\n",
              " 'directive': 253,\n",
              " 'work': 254,\n",
              " 'seema': 255,\n",
              " 'author': 256,\n",
              " 'friends': 257,\n",
              " 'benefits': 258,\n",
              " 'story': 259,\n",
              " 'put': 260,\n",
              " 'effort': 261,\n",
              " 'substantive': 262,\n",
              " 'deliverables': 263,\n",
              " 'defence': 264,\n",
              " 'industrial': 265,\n",
              " 'cooperation': 266,\n",
              " 'topped': 267,\n",
              " 'list': 268,\n",
              " 'consider': 269,\n",
              " 'electric': 270,\n",
              " 'hindustan': 271,\n",
              " 'aeronautics': 272,\n",
              " 'limited': 273,\n",
              " 'advanced': 274,\n",
              " 'engines': 275,\n",
              " 'indigenous': 276,\n",
              " 'light': 277,\n",
              " 'combat': 278,\n",
              " 'aircraft': 279,\n",
              " 'means': 280,\n",
              " 'greater': 281,\n",
              " 'transfer': 282,\n",
              " 'engine': 283,\n",
              " 'ever': 284,\n",
              " 'before': 285,\n",
              " 'clear': 286,\n",
              " 'sign': 287,\n",
              " 'sell': 288,\n",
              " 'comfortable': 289,\n",
              " 'proceed': 290,\n",
              " '3bn': 291,\n",
              " 'battle': 292,\n",
              " 'tested': 293,\n",
              " 'mq': 294,\n",
              " '9b': 295,\n",
              " 'predator': 296,\n",
              " 'atomics': 297,\n",
              " 'set': 298,\n",
              " 'assembled': 299,\n",
              " 'fits': 300,\n",
              " \"'make\": 301,\n",
              " \"india'\": 302,\n",
              " 'campaign': 303,\n",
              " 'supplies': 304,\n",
              " '11': 305,\n",
              " '45': 306,\n",
              " 'supplier': 307,\n",
              " 'hopes': 308,\n",
              " 'primary': 309,\n",
              " 'provider': 310,\n",
              " 'coming': 311,\n",
              " 'immediate': 312,\n",
              " 'goal': 313,\n",
              " 'strengthen': 314,\n",
              " 'capacity': 315,\n",
              " 'counter': 316,\n",
              " 'base': 317,\n",
              " 'memory': 318,\n",
              " 'chip': 319,\n",
              " 'giant': 320,\n",
              " 'micron': 321,\n",
              " '825m': 322,\n",
              " 'build': 323,\n",
              " 'assembly': 324,\n",
              " 'creating': 325,\n",
              " 'thousands': 326,\n",
              " 'jobs': 327,\n",
              " 'equipment': 328,\n",
              " 'lam': 329,\n",
              " 'train': 330,\n",
              " '60': 331,\n",
              " '000': 332,\n",
              " 'engineers': 333,\n",
              " 'through': 334,\n",
              " 'network': 335,\n",
              " 'interconnected': 336,\n",
              " 'labs': 337,\n",
              " 'centres': 338,\n",
              " 'speed': 339,\n",
              " 'education': 340,\n",
              " 'workforce': 341,\n",
              " 'development': 342,\n",
              " 'applied': 343,\n",
              " 'materials': 344,\n",
              " 'machines': 345,\n",
              " 'producing': 346,\n",
              " 'semiconductors': 347,\n",
              " '400m': 348,\n",
              " 'establish': 349,\n",
              " 'engineering': 350,\n",
              " 'centre': 351,\n",
              " 'both': 352,\n",
              " 'talking': 353,\n",
              " 'cutting': 354,\n",
              " 'edge': 355,\n",
              " 'technologies': 356,\n",
              " 'seed': 357,\n",
              " 'shape': 358,\n",
              " 'lady': 359,\n",
              " 'jill': 360,\n",
              " '21': 361,\n",
              " 'mrs': 362,\n",
              " 'ups': 363,\n",
              " 'downs': 364,\n",
              " 'since': 365,\n",
              " 'seriously': 366,\n",
              " 'began': 367,\n",
              " 'courting': 368,\n",
              " 'bill': 369,\n",
              " 'clinton': 370,\n",
              " 'then': 371,\n",
              " 'george': 372,\n",
              " 'bush': 373,\n",
              " 'response': 374,\n",
              " 'measured': 375,\n",
              " 'overeager': 376,\n",
              " 'too': 377,\n",
              " 'forthcoming': 378,\n",
              " 'saw': 379,\n",
              " 'geopolitics': 380,\n",
              " 'its': 381,\n",
              " 'own': 382,\n",
              " 'order': 383,\n",
              " 'strategy': 384,\n",
              " 'nonalignment': 385,\n",
              " 'started': 386,\n",
              " 'jawaharlal': 387,\n",
              " 'nehru': 388,\n",
              " 'always': 389,\n",
              " 'deeply': 390,\n",
              " 'rooted': 391,\n",
              " 'camp': 392,\n",
              " 'other': 393,\n",
              " 'junior': 394,\n",
              " 'superpower': 395,\n",
              " 'left': 396,\n",
              " 'ideals': 397,\n",
              " 'describe': 398,\n",
              " 'altruism': 399,\n",
              " 'leading': 400,\n",
              " 'different': 401,\n",
              " 'kind': 402,\n",
              " 'considerably': 403,\n",
              " 'economic': 404,\n",
              " 'geopolitical': 405,\n",
              " 'heft': 406,\n",
              " 'formed': 407,\n",
              " 'bonds': 408,\n",
              " 'presidents': 409,\n",
              " 'barack': 410,\n",
              " 'donald': 411,\n",
              " 'sacrificed': 412,\n",
              " 'would': 413,\n",
              " 'go': 414,\n",
              " 'step': 415,\n",
              " 'probably': 416,\n",
              " 'take': 417,\n",
              " 'harder': 418,\n",
              " 'public': 419,\n",
              " 'stand': 420,\n",
              " 'seem': 421,\n",
              " 'disappointed': 422,\n",
              " 'repeated': 423,\n",
              " 'line': 424,\n",
              " 'era': 425,\n",
              " 'war': 426,\n",
              " 'mentioning': 427,\n",
              " 'speak': 428,\n",
              " 'beefing': 429,\n",
              " 'humanitarian': 430,\n",
              " 'assistance': 431,\n",
              " 'ukraine': 432,\n",
              " 'mention': 433,\n",
              " 'name': 434,\n",
              " 'either': 435,\n",
              " 'talk': 436,\n",
              " 'prosperous': 437,\n",
              " 'far': 438,\n",
              " 'pushed': 439,\n",
              " \"administration's\": 440,\n",
              " 'compromising': 441,\n",
              " 'ideal': 442,\n",
              " 'come': 443,\n",
              " 'making': 444,\n",
              " 'success': 445,\n",
              " 'iaf': 446,\n",
              " 'posing': 447,\n",
              " 'f': 448,\n",
              " '15': 449,\n",
              " 'eagle': 450,\n",
              " \"'exercise\": 451,\n",
              " 'cope': 452,\n",
              " \"2023'\": 453,\n",
              " 'station': 454,\n",
              " 'kalaikunda': 455,\n",
              " 'around': 456,\n",
              " '170': 457,\n",
              " 'km': 458,\n",
              " 'west': 459,\n",
              " 'kolkata': 460,\n",
              " '24th': 461,\n",
              " 'pose': 462,\n",
              " 'exercise': 463,\n",
              " 'militaries': 464,\n",
              " 'working': 465,\n",
              " 'closely': 466,\n",
              " 'together': 467,\n",
              " 'arrangements': 468,\n",
              " 'where': 469,\n",
              " 'use': 470,\n",
              " 'each': 471,\n",
              " \"other's\": 472,\n",
              " 'facilities': 473,\n",
              " 'refuelling': 474,\n",
              " 'maintenance': 475,\n",
              " 'purposes': 476,\n",
              " 'holding': 477,\n",
              " 'exercises': 478,\n",
              " \"they're\": 479,\n",
              " 'intelligence': 480,\n",
              " 'credit': 481,\n",
              " 'managing': 482,\n",
              " 'really': 483,\n",
              " 'limits': 484,\n",
              " 'sense': 485,\n",
              " 'getting': 486,\n",
              " 'you': 487,\n",
              " 'power': 488,\n",
              " 'signing': 489,\n",
              " 'fledged': 490,\n",
              " 'alliance': 491,\n",
              " 'differences': 492,\n",
              " 'recent': 493,\n",
              " 'particularly': 494,\n",
              " 'suffered': 495,\n",
              " 'expected': 496,\n",
              " 'announce': 497,\n",
              " 'anything': 498,\n",
              " 'understood': 499,\n",
              " 'continue': 500,\n",
              " 'overshadowing': 501,\n",
              " 'surprisingly': 502,\n",
              " 'announced': 503,\n",
              " 'six': 504,\n",
              " 'separate': 505,\n",
              " 'organization': 506,\n",
              " 'resolved': 507,\n",
              " 'including': 508,\n",
              " 'involved': 509,\n",
              " 'top': 510,\n",
              " 'trading': 511,\n",
              " '130bn': 512,\n",
              " 'goods': 513,\n",
              " 'delhi': 514,\n",
              " 'eighth': 515,\n",
              " 'largest': 516,\n",
              " 'while': 517,\n",
              " 'these': 518,\n",
              " 'numbers': 519,\n",
              " 'impressive': 520,\n",
              " 'analysts': 521,\n",
              " 'policymakers': 522,\n",
              " 'feel': 523,\n",
              " 'huge': 524,\n",
              " 'untapped': 525,\n",
              " 'burgeoning': 526,\n",
              " 'market': 527,\n",
              " 'expanding': 528,\n",
              " 'middle': 529,\n",
              " 'class': 530,\n",
              " 'positioning': 531,\n",
              " 'itself': 532,\n",
              " 'alternative': 533,\n",
              " 'manufacturing': 534,\n",
              " 'hub': 535,\n",
              " 'participate': 536,\n",
              " 'arrival': 537,\n",
              " 'ceremony': 538,\n",
              " 'south': 539,\n",
              " 'lawn': 540,\n",
              " 'thursday': 541,\n",
              " '22': 542,\n",
              " 'invite': 543,\n",
              " 'official': 544,\n",
              " '2': 545,\n",
              " '7': 546,\n",
              " 'million': 547,\n",
              " 'indians': 548,\n",
              " 'live': 549,\n",
              " 'firms': 550,\n",
              " 'interested': 551,\n",
              " 'proposal': 552,\n",
              " 'look': 553,\n",
              " 'supply': 554,\n",
              " 'chain': 555,\n",
              " 'dominance': 556,\n",
              " 'context': 557,\n",
              " 'resolution': 558,\n",
              " 'give': 559,\n",
              " 'impetus': 560,\n",
              " 'unlocking': 561,\n",
              " 'even': 562,\n",
              " 'sky': 563,\n",
              " 'limit': 564,\n",
              " 'critics': 565,\n",
              " 'questioned': 566,\n",
              " 'backsliding': 567,\n",
              " 'nationalist': 568,\n",
              " 'bharatiya': 569,\n",
              " 'janata': 570,\n",
              " 'bjp': 571,\n",
              " 'television': 572,\n",
              " 'interview': 573,\n",
              " 'week': 574,\n",
              " 'emphasised': 575,\n",
              " 'significance': 576,\n",
              " 'addressing': 577,\n",
              " 'protection': 578,\n",
              " 'muslim': 579,\n",
              " 'minority': 580,\n",
              " 'predominantly': 581,\n",
              " 'progressives': 582,\n",
              " 'disturbed': 583,\n",
              " 'happening': 584,\n",
              " 'realists': 585,\n",
              " 'centrists': 586,\n",
              " 'factor': 587,\n",
              " 'whole': 588,\n",
              " 'bipartisan': 589,\n",
              " 'agreement': 590,\n",
              " 'deeper': 591,\n",
              " 'broader': 592,\n",
              " 'certainly': 593,\n",
              " 'moved': 594,\n",
              " 'next': 595,\n",
              " 'level': 596,\n",
              " 'need': 597,\n",
              " 'benefit': 598}"
            ]
          },
          "metadata": {},
          "execution_count": 12
        }
      ]
    },
    {
      "cell_type": "code",
      "source": [
        "with open('tokenizer.pickle','wb') as handle:\n",
        "  pickle.dump(mytokenizer,handle,protocol=pickle.HIGHEST_PROTOCOL)"
      ],
      "metadata": {
        "id": "lVSvVR1MMas8"
      },
      "execution_count": null,
      "outputs": []
    },
    {
      "cell_type": "code",
      "source": [
        "!cp  '/content/tokenizer.pickle' '/content/drive/MyDrive/RNN'"
      ],
      "metadata": {
        "id": "QwHPWoEfNPgb"
      },
      "execution_count": null,
      "outputs": []
    },
    {
      "cell_type": "code",
      "source": [
        "my_input_sequance=[]\n",
        "for line in mytext.split('\\n'):\n",
        "  token_list=mytokenizer.texts_to_sequences([line])[0]\n",
        "  # print(token_list)\n",
        "  for i in range(1,len(token_list)):\n",
        "    # n-gram sequence: no of values/words in a token\n",
        "    my_ngram_sequance=token_list[:i+1]\n",
        "    my_input_sequance.append(my_ngram_sequance)"
      ],
      "metadata": {
        "id": "87AKhdD1OgZR"
      },
      "execution_count": null,
      "outputs": []
    },
    {
      "cell_type": "code",
      "source": [
        "max_sequance_len= max([len(seq) for seq in my_input_sequance])\n",
        "max_sequance_len"
      ],
      "metadata": {
        "colab": {
          "base_uri": "https://localhost:8080/"
        },
        "id": "-o_tSBOlPEp0",
        "outputId": "3482751d-8a20-4361-da8b-56f49bb4edb6"
      },
      "execution_count": null,
      "outputs": [
        {
          "output_type": "execute_result",
          "data": {
            "text/plain": [
              "83"
            ]
          },
          "metadata": {},
          "execution_count": 16
        }
      ]
    },
    {
      "cell_type": "code",
      "source": [
        "'''\n",
        "padding: to add extra space(0) to equalize the length\n",
        "2 types\n",
        "  1.post padding\n",
        "  2. pre padding - default\n",
        "\n",
        "  '''"
      ],
      "metadata": {
        "colab": {
          "base_uri": "https://localhost:8080/",
          "height": 52
        },
        "id": "bVODgK-lQzuQ",
        "outputId": "5553a4b6-ab78-4cca-fa30-1da169acd42c"
      },
      "execution_count": null,
      "outputs": [
        {
          "output_type": "execute_result",
          "data": {
            "text/plain": [
              "'\\npadding: to add extra space(0) to equalize the length\\n2 types\\n  1.post padding\\n  2. pre padding - default\\n\\n  '"
            ],
            "application/vnd.google.colaboratory.intrinsic+json": {
              "type": "string"
            }
          },
          "metadata": {},
          "execution_count": 17
        }
      ]
    },
    {
      "cell_type": "code",
      "source": [
        "input_sequance=np.array(pad_sequences(my_input_sequance,maxlen=max_sequance_len,padding='pre'))\n",
        "input_sequance"
      ],
      "metadata": {
        "colab": {
          "base_uri": "https://localhost:8080/"
        },
        "id": "tUi_r-0vSJMz",
        "outputId": "2d87dd24-87dc-45df-9d3e-f304888ddc3b"
      },
      "execution_count": null,
      "outputs": [
        {
          "output_type": "execute_result",
          "data": {
            "text/plain": [
              "array([[  0,   0,   0, ...,   0,  99,   4],\n",
              "       [  0,   0,   0, ...,  99,   4, 177],\n",
              "       [  0,   0,   0, ...,   4, 177,  50],\n",
              "       ...,\n",
              "       [  0,   0,   0, ..., 176, 598,  25],\n",
              "       [  0,   0,   0, ..., 598,  25,  59],\n",
              "       [  0,   0,   0, ...,  25,  59,  46]], dtype=int32)"
            ]
          },
          "metadata": {},
          "execution_count": 18
        }
      ]
    },
    {
      "cell_type": "code",
      "source": [
        "# input oputpout separation\n",
        "x=input_sequance[:,:-1]\n",
        "# last elemrnt on each sequance\n",
        "y=input_sequance[:,-1]\n",
        "x\n",
        "y"
      ],
      "metadata": {
        "colab": {
          "base_uri": "https://localhost:8080/"
        },
        "id": "vZSCrkNkSo-p",
        "outputId": "2c85ccee-ff66-4c8f-9b0a-d650c7787798"
      },
      "execution_count": null,
      "outputs": [
        {
          "output_type": "execute_result",
          "data": {
            "text/plain": [
              "array([  4, 177,  50, ...,  25,  59,  46], dtype=int32)"
            ]
          },
          "metadata": {},
          "execution_count": 19
        }
      ]
    },
    {
      "cell_type": "code",
      "source": [
        "#one hot encoding\n",
        "y=np.array(tf.keras.utils.to_categorical(y,num_classes=total_words))\n",
        "y\n"
      ],
      "metadata": {
        "colab": {
          "base_uri": "https://localhost:8080/"
        },
        "id": "G4foPwG0T2UN",
        "outputId": "6ab97cf3-beb8-443f-f877-ff1d12b38351"
      },
      "execution_count": null,
      "outputs": [
        {
          "output_type": "execute_result",
          "data": {
            "text/plain": [
              "array([[0., 0., 0., ..., 0., 0., 0.],\n",
              "       [0., 0., 0., ..., 0., 0., 0.],\n",
              "       [0., 0., 0., ..., 0., 0., 0.],\n",
              "       ...,\n",
              "       [0., 0., 0., ..., 0., 0., 0.],\n",
              "       [0., 0., 0., ..., 0., 0., 0.],\n",
              "       [0., 0., 0., ..., 0., 0., 0.]], dtype=float32)"
            ]
          },
          "metadata": {},
          "execution_count": 20
        }
      ]
    },
    {
      "cell_type": "code",
      "source": [
        "model=Sequential()\n",
        "#embedding : for mapping words- to reduse size\n",
        "model.add(Embedding(input_dim=total_words,output_dim=100,input_length=max_sequance_len-1))\n",
        "# LSTM>O/P_DIM\n",
        "model.add(LSTM(150))\n",
        "model.add(Dense(total_words,activation='softmax'))"
      ],
      "metadata": {
        "id": "6e-hgu-OUya4"
      },
      "execution_count": null,
      "outputs": []
    },
    {
      "cell_type": "code",
      "source": [
        "model.compile(loss='categorical_crossentropy',optimizer='adam',metrics=['accuracy'])"
      ],
      "metadata": {
        "id": "6jHvAVdxXIxO"
      },
      "execution_count": null,
      "outputs": []
    },
    {
      "cell_type": "code",
      "source": [
        "model.fit(x,y,epochs=50,verbose=1)"
      ],
      "metadata": {
        "colab": {
          "base_uri": "https://localhost:8080/"
        },
        "id": "mMAhTvRvXz3F",
        "outputId": "82c7ce79-a1db-40f4-d4e6-2fcc072664ac"
      },
      "execution_count": null,
      "outputs": [
        {
          "output_type": "stream",
          "name": "stdout",
          "text": [
            "Epoch 1/50\n",
            "43/43 [==============================] - 9s 146ms/step - loss: 6.1783 - accuracy: 0.0394\n",
            "Epoch 2/50\n",
            "43/43 [==============================] - 5s 123ms/step - loss: 5.8081 - accuracy: 0.0576\n",
            "Epoch 3/50\n",
            "43/43 [==============================] - 3s 64ms/step - loss: 5.7257 - accuracy: 0.0576\n",
            "Epoch 4/50\n",
            "43/43 [==============================] - 3s 74ms/step - loss: 5.6650 - accuracy: 0.0576\n",
            "Epoch 5/50\n",
            "43/43 [==============================] - 3s 64ms/step - loss: 5.5838 - accuracy: 0.0576\n",
            "Epoch 6/50\n",
            "43/43 [==============================] - 1s 20ms/step - loss: 5.4798 - accuracy: 0.0598\n",
            "Epoch 7/50\n",
            "43/43 [==============================] - 1s 26ms/step - loss: 5.3444 - accuracy: 0.0708\n",
            "Epoch 8/50\n",
            "43/43 [==============================] - 1s 19ms/step - loss: 5.1658 - accuracy: 0.0890\n",
            "Epoch 9/50\n",
            "43/43 [==============================] - 1s 26ms/step - loss: 4.9479 - accuracy: 0.1101\n",
            "Epoch 10/50\n",
            "43/43 [==============================] - 1s 23ms/step - loss: 4.7083 - accuracy: 0.1298\n",
            "Epoch 11/50\n",
            "43/43 [==============================] - 1s 17ms/step - loss: 4.4565 - accuracy: 0.1466\n",
            "Epoch 12/50\n",
            "43/43 [==============================] - 1s 14ms/step - loss: 4.2078 - accuracy: 0.1794\n",
            "Epoch 13/50\n",
            "43/43 [==============================] - 1s 17ms/step - loss: 3.9685 - accuracy: 0.1977\n",
            "Epoch 14/50\n",
            "43/43 [==============================] - 0s 10ms/step - loss: 3.7315 - accuracy: 0.2268\n",
            "Epoch 15/50\n",
            "43/43 [==============================] - 0s 10ms/step - loss: 3.5185 - accuracy: 0.2487\n",
            "Epoch 16/50\n",
            "43/43 [==============================] - 0s 11ms/step - loss: 3.2803 - accuracy: 0.2998\n",
            "Epoch 17/50\n",
            "43/43 [==============================] - 1s 17ms/step - loss: 3.0722 - accuracy: 0.3231\n",
            "Epoch 18/50\n",
            "43/43 [==============================] - 0s 9ms/step - loss: 2.8634 - accuracy: 0.3982\n",
            "Epoch 19/50\n",
            "43/43 [==============================] - 0s 9ms/step - loss: 2.6747 - accuracy: 0.4486\n",
            "Epoch 20/50\n",
            "43/43 [==============================] - 1s 20ms/step - loss: 2.4850 - accuracy: 0.5113\n",
            "Epoch 21/50\n",
            "43/43 [==============================] - 1s 15ms/step - loss: 2.3042 - accuracy: 0.5609\n",
            "Epoch 22/50\n",
            "43/43 [==============================] - 1s 14ms/step - loss: 2.1341 - accuracy: 0.6069\n",
            "Epoch 23/50\n",
            "43/43 [==============================] - 0s 7ms/step - loss: 1.9710 - accuracy: 0.6557\n",
            "Epoch 24/50\n",
            "43/43 [==============================] - 0s 6ms/step - loss: 1.8112 - accuracy: 0.7126\n",
            "Epoch 25/50\n",
            "43/43 [==============================] - 1s 14ms/step - loss: 1.6639 - accuracy: 0.7513\n",
            "Epoch 26/50\n",
            "43/43 [==============================] - 0s 7ms/step - loss: 1.5300 - accuracy: 0.7863\n",
            "Epoch 27/50\n",
            "43/43 [==============================] - 1s 17ms/step - loss: 1.4013 - accuracy: 0.8271\n",
            "Epoch 28/50\n",
            "43/43 [==============================] - 0s 6ms/step - loss: 1.2859 - accuracy: 0.8454\n",
            "Epoch 29/50\n",
            "43/43 [==============================] - 0s 6ms/step - loss: 1.1760 - accuracy: 0.8767\n",
            "Epoch 30/50\n",
            "43/43 [==============================] - 0s 6ms/step - loss: 1.0807 - accuracy: 0.8891\n",
            "Epoch 31/50\n",
            "43/43 [==============================] - 0s 10ms/step - loss: 0.9891 - accuracy: 0.9110\n",
            "Epoch 32/50\n",
            "43/43 [==============================] - 0s 6ms/step - loss: 0.9034 - accuracy: 0.9176\n",
            "Epoch 33/50\n",
            "43/43 [==============================] - 0s 7ms/step - loss: 0.8309 - accuracy: 0.9300\n",
            "Epoch 34/50\n",
            "43/43 [==============================] - 0s 11ms/step - loss: 0.7631 - accuracy: 0.9402\n",
            "Epoch 35/50\n",
            "43/43 [==============================] - 0s 6ms/step - loss: 0.7002 - accuracy: 0.9475\n",
            "Epoch 36/50\n",
            "43/43 [==============================] - 0s 6ms/step - loss: 0.6445 - accuracy: 0.9555\n",
            "Epoch 37/50\n",
            "43/43 [==============================] - 1s 14ms/step - loss: 0.5922 - accuracy: 0.9643\n",
            "Epoch 38/50\n",
            "43/43 [==============================] - 0s 6ms/step - loss: 0.5464 - accuracy: 0.9650\n",
            "Epoch 39/50\n",
            "43/43 [==============================] - 0s 7ms/step - loss: 0.5044 - accuracy: 0.9686\n",
            "Epoch 40/50\n",
            "43/43 [==============================] - 0s 6ms/step - loss: 0.4654 - accuracy: 0.9737\n",
            "Epoch 41/50\n",
            "43/43 [==============================] - 0s 10ms/step - loss: 0.4309 - accuracy: 0.9745\n",
            "Epoch 42/50\n",
            "43/43 [==============================] - 0s 7ms/step - loss: 0.3997 - accuracy: 0.9767\n",
            "Epoch 43/50\n",
            "43/43 [==============================] - 0s 11ms/step - loss: 0.3736 - accuracy: 0.9781\n",
            "Epoch 44/50\n",
            "43/43 [==============================] - 0s 10ms/step - loss: 0.3478 - accuracy: 0.9796\n",
            "Epoch 45/50\n",
            "43/43 [==============================] - 0s 7ms/step - loss: 0.3244 - accuracy: 0.9818\n",
            "Epoch 46/50\n",
            "43/43 [==============================] - 0s 10ms/step - loss: 0.3028 - accuracy: 0.9825\n",
            "Epoch 47/50\n",
            "43/43 [==============================] - 0s 7ms/step - loss: 0.2829 - accuracy: 0.9840\n",
            "Epoch 48/50\n",
            "43/43 [==============================] - 0s 7ms/step - loss: 0.2660 - accuracy: 0.9832\n",
            "Epoch 49/50\n",
            "43/43 [==============================] - 0s 11ms/step - loss: 0.2497 - accuracy: 0.9825\n",
            "Epoch 50/50\n",
            "43/43 [==============================] - 0s 9ms/step - loss: 0.2351 - accuracy: 0.9861\n"
          ]
        },
        {
          "output_type": "execute_result",
          "data": {
            "text/plain": [
              "<keras.src.callbacks.History at 0x7d7ce013da20>"
            ]
          },
          "metadata": {},
          "execution_count": 23
        }
      ]
    },
    {
      "cell_type": "code",
      "source": [
        "model.save('word_prediction.h5')"
      ],
      "metadata": {
        "colab": {
          "base_uri": "https://localhost:8080/"
        },
        "id": "fBrfRzCJYD56",
        "outputId": "f7e24d22-f851-47e4-abf7-292a087204ad"
      },
      "execution_count": null,
      "outputs": [
        {
          "output_type": "stream",
          "name": "stderr",
          "text": [
            "/usr/local/lib/python3.10/dist-packages/keras/src/engine/training.py:3103: UserWarning: You are saving your model as an HDF5 file via `model.save()`. This file format is considered legacy. We recommend using instead the native Keras format, e.g. `model.save('my_model.keras')`.\n",
            "  saving_api.save_model(\n"
          ]
        }
      ]
    },
    {
      "cell_type": "code",
      "source": [
        "!cp '/content/word_prediction.h5' '/content/drive/MyDrive/RNN'"
      ],
      "metadata": {
        "id": "unYo19YwZBr7"
      },
      "execution_count": null,
      "outputs": []
    },
    {
      "cell_type": "markdown",
      "source": [
        "Prediction"
      ],
      "metadata": {
        "id": "6_8Hoqi8ZisF"
      }
    },
    {
      "cell_type": "code",
      "source": [
        "import numpy as np\n",
        "import tensorflow as tf\n",
        "from keras.preprocessing.text import Tokenizer\n",
        "from keras.preprocessing.sequence import pad_sequences\n",
        "import pickle"
      ],
      "metadata": {
        "id": "OuVhS2IiZLWu"
      },
      "execution_count": null,
      "outputs": []
    },
    {
      "cell_type": "code",
      "source": [
        "with open('/content/tokenizer.pickle','rb') as handle:\n",
        "  mytokenizer=pickle.load(handle)\n",
        "\n",
        "model =tf.keras.models.load_model('/content/word_prediction.h5')"
      ],
      "metadata": {
        "id": "4WKB7gh_aL7X"
      },
      "execution_count": null,
      "outputs": []
    },
    {
      "cell_type": "code",
      "source": [
        "input_text='narendra modi'\n",
        "predict_next_word= 5\n",
        "\n",
        "for i in range(predict_next_word):\n",
        "  token_list=mytokenizer.texts_to_sequences([input_text])[0]\n",
        "  token_list=pad_sequences([token_list],maxlen=model.input_shape[1],padding='pre')\n",
        "  predicted=model.predict(token_list)\n",
        "  predicted_index=np.argmax(predicted,axis=1)\n",
        "  # print(predicted)\n",
        "  output_word=mytokenizer.index_word[predicted_index[0]]\n",
        "  input_text+=\" \" + output_word\n",
        "\n",
        "print(input_text)\n"
      ],
      "metadata": {
        "colab": {
          "base_uri": "https://localhost:8080/"
        },
        "id": "ekIA34Q0bHWw",
        "outputId": "ef3a29c2-af0f-4fb2-9aaf-a2e52a3e600b"
      },
      "execution_count": null,
      "outputs": [
        {
          "output_type": "stream",
          "name": "stdout",
          "text": [
            "1/1 [==============================] - 0s 19ms/step\n",
            "1/1 [==============================] - 0s 18ms/step\n",
            "1/1 [==============================] - 0s 18ms/step\n",
            "1/1 [==============================] - 0s 18ms/step\n",
            "1/1 [==============================] - 0s 19ms/step\n",
            "narendra modi the two sides were not\n"
          ]
        }
      ]
    },
    {
      "cell_type": "code",
      "source": [],
      "metadata": {
        "id": "86ljD0zKegL_"
      },
      "execution_count": null,
      "outputs": []
    }
  ]
}